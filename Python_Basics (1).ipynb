{
  "nbformat": 4,
  "nbformat_minor": 0,
  "metadata": {
    "colab": {
      "provenance": []
    },
    "kernelspec": {
      "name": "python3",
      "display_name": "Python 3"
    },
    "language_info": {
      "name": "python"
    }
  },
  "cells": [
    {
      "cell_type": "markdown",
      "source": [
        "#Python Basics"
      ],
      "metadata": {
        "id": "SZL3xM-wukmS"
      }
    },
    {
      "cell_type": "markdown",
      "source": [
        "#1. What is Python, and why is it popular?\n"
      ],
      "metadata": {
        "id": "6CxCEVB1uoFy"
      }
    },
    {
      "cell_type": "markdown",
      "source": [
        "-Python is a popular programming language because it's easy to learn, versatile, and open-source. It's used for many applications, including web development, data science, machine learning, and the Internet of Things (IoT).\n",
        "\n",
        "Why is Python popular?\n",
        "\n",
        "Easy to learn\n",
        "\n",
        "Python's syntax is similar to English, making it easy for beginners to learn.\n",
        "\n",
        "Versatile\n",
        "\n",
        "Python can be used for many different applications, including web development, data analysis, machine learning, and IoT.\n",
        "\n",
        "Open-source\n",
        "Python is free to download and modify, and there's a large library of publicly available Python code.\n",
        "\n",
        "Efficient\n",
        "\n",
        "Python's syntax allows developers to write programs with fewer lines of code than some other languages.\n",
        "\n",
        "Cross-platform\n",
        "\n",
        "Python can run on many different platforms and integrates well with all types of systems.\n",
        "\n",
        "Automation\n",
        "\n",
        "Python can automate tasks like updating spreadsheets, sending emails, and sending text notifications."
      ],
      "metadata": {
        "id": "W4RLROZevEL3"
      }
    },
    {
      "cell_type": "markdown",
      "source": [
        "#2  What is an interpreter in Python?\n",
        "-A Python interpreter is a program that reads and executes Python code. It translates Python code into machine code that the computer can understand.\n",
        "\n",
        "How does a Python interpreter work?\n",
        "\n",
        "The interpreter analyzes the Python source code, breaking it down into tokens like keywords, operators, and identifiers.\n",
        "\n",
        "The interpreter analyzes the tokenized code to create an Abstract Syntax Tree (AST). This tree represents the code's structure and checks that it follows Python's grammar rules.\n",
        "\n",
        "The interpreter executes the code line by line. It displays any errors, and the user must fix them before the interpreter can continue.\n",
        "\n",
        "Features of the Python interpreter\n",
        "\n",
        "* The interpreter can process Python code from a script file or interactively.\n",
        "* In interactive mode, the interpreter prompts for commands with a primary prompt (>>>) and a secondary prompt (...).\n",
        "\n",
        "* The interpreter is a virtual machine, which means it emulates a physical computer.\n",
        "\n",
        "Python is an interpreted language, which means that the interpreter reads, analyzes, and executes the code directly. This is different from compiled languages like C or C++, which are converted into machine code before execution.\n",
        "\n"
      ],
      "metadata": {
        "id": "VF6ulH4Kwo2K"
      }
    },
    {
      "cell_type": "markdown",
      "source": [
        "#3. What are pre-defined keywords in Python?\n",
        "-Keywords are reserved words in Python that have predefined meanings and cannot be used as identifiers (e.g., variable names, function names). These keywords are part of the language's syntax and are used to define the structure and behavior of Python programs\n",
        "\n",
        "These keywords serve various purposes, such as defining control flow (e.g., if, else, for, while), declaring functions and classes (def, class), handling exceptions (try, except, finally), and performing logical operations (and, or, not).\n",
        "\n"
      ],
      "metadata": {
        "id": "jg_2H3ppyzbU"
      }
    },
    {
      "cell_type": "markdown",
      "source": [
        "#4. Can keywords be used as variable names?\n",
        "-No, keywords cannot be used as variable names. Keywords are reserved words that define the syntax and structure of a programming language.\n",
        "\n",
        "Explanation\n",
        "\n",
        "*In C and C++, keywords cannot be used as variable names, function names, or any other identifiers.\n",
        "\n",
        "*In Python, keywords are used to define the syntax and structure of the language. Python reserves keywords like \"and\", \"del\", \"from\", \"None\", \"True\", \"as\", \"elif\", \"global\", \"nonlocal\", \"try\", \"assert\", \"else\", \"if\", \"not\", \"while\", \"break\", \"except\", \"import\", \"or\", \"with\", \"class\", \"False\", \"in\", \"pass\", \"yield\", \"continue\", \"finally\", \"is\", \"raise\", \"def\", \"for\", \"lambda\", and \"return\".\n",
        "\n",
        "*Programmers usually choose meaningful names for their variables so that other people reading the program can easily remember what the variable is used for.\n",
        "\n"
      ],
      "metadata": {
        "id": "Yy4wPXcozPhl"
      }
    },
    {
      "cell_type": "markdown",
      "source": [
        "#5. What is mutability in Python?\n",
        "-Mutability in Python refers to the ability of an object to be changed after it is created. If an object is mutable, its value can be modified without creating a new object. Conversely, if an object is immutable, its value cannot be changed after it is created, and any attempt to modify it will result in a new object being created.\n",
        "\n",
        "Common mutable data types in Python include lists, dictionaries, and sets. This means that you can add, remove, or modify elements within these data structures directly.\n"
      ],
      "metadata": {
        "id": "K0TnhHvN0E5Q"
      }
    },
    {
      "cell_type": "code",
      "execution_count": null,
      "metadata": {
        "id": "4uSZDpo2ucEg"
      },
      "outputs": [],
      "source": []
    },
    {
      "cell_type": "markdown",
      "source": [
        "#6. Why are lists mutable, but tuples are immutable?\n",
        "-Tuples and lists are the same in every way except two: tuples use parentheses instead of square brackets, and the items in tuples cannot be modified (but the items in lists can be modified). We often call lists mutable (meaning they can be changed) and tuples immutable (meaning they cannot be changed).18 May 2020\n",
        "\n"
      ],
      "metadata": {
        "id": "KO1owsQM0mtg"
      }
    },
    {
      "cell_type": "markdown",
      "source": [
        "#7.  What is the difference between “==” and “is” operators in Python?\n",
        "-The == and is operators in Python serve distinct comparison purposes:\n",
        "\n",
        "==: This operator checks for equality of value between two objects. It returns True if the values are the same, regardless of whether they are stored in the same memory location.\n",
        "\n",
        "\n",
        "is: This operator checks for identity. It returns True if two variables refer to the exact same object in memory.\n",
        "\n",
        "\n",
        "In essence, == compares the content of objects, while is compares their memory addresses.\n",
        "\n"
      ],
      "metadata": {
        "id": "Nq8EnMY-10F9"
      }
    },
    {
      "cell_type": "markdown",
      "source": [
        "#8. What are logical operators in Python?\n",
        "-In Python, logical operators are used to combine or modify boolean expressions (True or False). There are three main logical operators: and, or, and not.\n",
        "and: Returns True if both operands are True; otherwise, it returns False.\n",
        "    x = True\n",
        "    y = False\n",
        "    result = x and y  # result is False\n",
        "or: Returns True if at least one of the operands is True; it returns False only if both are False.\n",
        "\n",
        "    x = True\n",
        "    y = False\n",
        "    result = x or y  # result is True\n",
        "\n",
        "not: Returns the opposite boolean value of the operand. If the operand is True, it returns False, and vice versa.\n",
        "    x = True\n",
        "    result = not x  # result is False\n",
        "    \n",
        "These operators are commonly used in conditional statements and loops to control the flow of a program based on multiple conditions. They follow standard boolean logic rules.\n",
        "\n"
      ],
      "metadata": {
        "id": "kRgvel1n2hqa"
      }
    },
    {
      "cell_type": "markdown",
      "source": [
        "#9.  What is type casting in Python?\n",
        "-\n"
      ],
      "metadata": {
        "id": "gHcxbkcJ3KgO"
      }
    },
    {
      "cell_type": "markdown",
      "source": [
        "Type casting in Python, also known as type conversion, refers to the process of changing a variable's data type from one type to another. This is useful when performing operations that require specific data types or when working with data from different sources.\n",
        "\n",
        "Type casting can be done implicitly or explicitly. Implicit type casting, also known as coercion, happens automatically when Python converts data types during certain operations to prevent data loss. Explicit type casting, on the other hand, requires the programmer to use specific functions to convert data types.\n",
        "\n",
        "Here are some examples of explicit type casting in Python:\n",
        "\n",
        "*   `int()`: Converts a value to an integer data type.\n",
        "*   `float()`: Converts a value to a floating-point data type.\n",
        "*   `str()`: Converts a value to a string data type.\n",
        "*   `bool()`: Converts a value to a boolean data type.\n",
        "*   `list()`: Converts a value to a list data type.\n",
        "*   `tuple()`: Converts a value to a tuple data type.\n",
        "*   `set()`: Converts a value to a set data type.\n",
        "*   `dict()`: Converts a value to a dictionary data type."
      ],
      "metadata": {
        "id": "KjRjjZ2-3j17"
      }
    },
    {
      "cell_type": "code",
      "source": [
        "# Explicit Type Casting\n",
        "x = 10\n",
        "y = 3.14\n",
        "z = \"hello\"\n",
        "\n",
        "x_str = str(x) # Converts integer to string\n",
        "y_int = int(y) # Converts float to integer\n",
        "z_bool = bool(z) # Converts string to boolean\n",
        "\n",
        "print(type(x_str))\n",
        "print(type(y_int))\n",
        "print(type(z_bool))"
      ],
      "outputs": [],
      "execution_count": null,
      "metadata": {
        "id": "_dxMyvma3j19"
      }
    },
    {
      "cell_type": "markdown",
      "source": [],
      "metadata": {
        "id": "G2BdNeuI3qE6"
      }
    },
    {
      "cell_type": "code",
      "source": [
        "# Implicit Type Casting\n",
        "a = 5\n",
        "b = 2.0\n",
        "c = a + b # Implicitly converts 'a' to float before addition\n",
        "print(c)\n",
        "print(type(c))"
      ],
      "outputs": [],
      "execution_count": null,
      "metadata": {
        "id": "TtOWDh0y3j1_"
      }
    },
    {
      "cell_type": "markdown",
      "source": [
        "#10.  What is the difference between implicit and explicit type casting?\n",
        "-\n",
        "\n",
        "Implicit type casting happens automatically, while explicit type casting requires the programmer to intervene. [1, 2]\n",
        "\n",
        "Implicit type casting [1, 2, 3, 4]\n",
        "Also known as widening conversion\n",
        "Automatically converts a smaller data type to a larger data type\n",
        "Often happens when the compiler or interpreter performs an operation\n",
        "Usually happens without the programmer's knowledge\n",
        "\n",
        "Explicit type casting [2]\n",
        "Also known as narrowing conversion [2]\n",
        "Manually converts a larger data type to a smaller data type [2, 4]\n",
        "Requires the programmer to write code that instructs the compiler or interpreter to make a specific conversion [3]\n",
        "Provides more control over the data conversion process [5]\n",
        "\n",
        "When to use each type of casting [1]\n",
        "Implicit type casting is typically used when there is no loss of data\n",
        "Explicit type casting is used when there is a possibility of data loss\n",
        "\n",
        "Examples [4]\n",
        "In C#, implicit casting converts a smaller type to a larger type size, while explicit casting converts a larger type to a smaller size type. [4]\n",
        "In Java, implicit type casting automatically converts a smaller primitive type to a larger primitive type. [2]\n",
        "\n"
      ],
      "metadata": {
        "id": "uIEKpxp13yXa"
      }
    },
    {
      "cell_type": "markdown",
      "source": [
        "#11. What is the purpose of conditional statements in Python?\n",
        "-\n",
        "\n",
        "Conditional statements in Python serve to control the flow of execution in a program, allowing different blocks of code to be executed based on whether a specific condition is true or false. This enables programs to make decisions and respond dynamically to varying inputs and situations. The primary conditional statements in Python are if, elif, and else.\n",
        "if statement: This is the most basic conditional statement. It evaluates a condition, and if the condition is true, the code block within the if statement is executed.\n",
        "elif statement: This statement allows for multiple conditions to be checked in sequence. If the preceding if condition is false, the elif condition is evaluated. If the elif condition is true, its corresponding code block is executed. There can be multiple elif statements in a conditional structure.\n",
        "else statement: This statement provides a default block of code to be executed if none of the preceding if or elif conditions are true. It is optional and is placed at the end of the conditional structure.\n",
        "\n",
        "age = 20\n",
        "\n",
        "if age < 18:\n",
        "    print(\"You are a minor.\")\n",
        "elif age >= 18 and age < 65:\n",
        "    print(\"You are an adult.\")\n",
        "else:\n",
        "    print(\"You are a senior citizen.\")\n",
        "\n",
        "\n",
        "In this example, the program checks the value of the variable age and prints a different message depending on whether the age is less than 18, between 18 and 64, or 65 or older.\n",
        "\n",
        "\n"
      ],
      "metadata": {
        "id": "RGmxNChS4LpD"
      }
    },
    {
      "cell_type": "markdown",
      "source": [
        "#12. How does the elif statement work?\n",
        "-The “elif” keyword in Python, stands for “else if”. It can be used in conditional statements to check for multiple conditions. For example, if the first condition is false, it moves on to the next “elif” statement to check if that condition is true.\n",
        "\n",
        "if condition1:\n",
        "    # execute code if condition1 is true\n",
        "elif condition2:\n",
        "    # execute code if condition2 is true\n",
        "else:\n",
        "    # execute code if all conditions are false\n",
        "\n"
      ],
      "metadata": {
        "id": "yFSWpbRy43hS"
      }
    },
    {
      "cell_type": "markdown",
      "source": [
        "#13. What is the difference between for and while loops?\n",
        "-\n",
        "\n",
        "In programming, a for loop is used to repeat a block of code a known number of times, while a while loop repeats it an unknown number of times. [1, 2, 3, 4]\n",
        "\n",
        "\n",
        "For loop\n",
        "While loop\n",
        "When to use\n",
        "When you know the number of iterations in advance\n",
        "When you don't know the number of iterations in advance\n",
        "How it works\n",
        "Iterates over a sequence, like a list or string\n",
        "Repeats a block of code until a condition is true\n",
        "\n",
        "\n",
        "Examples [3, 4]\n",
        "You might use a for loop to check the grade of every student in a class. [3, 4]\n",
        "You might use a while loop when you're not sure how many times you need your code to repeat. [5]\n",
        "\n",
        "Control flow statements [6, 7, 8]\n",
        "\n",
        "Both for loops and while loops are control flow statements that allow you to repeatedly run code. You can use these tools to iterate over a block of code and execute a designated block of code for each item within the sequence. [5, 6, 7, 8]\n",
        "\n",
        "Related concepts [7, 8]\n",
        "\n",
        "\n"
      ],
      "metadata": {
        "id": "8P6g0lBN5hzG"
      }
    },
    {
      "cell_type": "markdown",
      "source": [
        "#14. Describe a scenario where a while loop is more suitable than a for loop?\n",
        "-In contrast to a 'for' loop, which is generally used when the number of iterations is known beforehand, a 'while' loop is ideal for situations where the number of iterations is not predetermined and depends on some dynamic condition.\n",
        "\n"
      ],
      "metadata": {
        "id": "fRlJnMJJ6bEH"
      }
    },
    {
      "cell_type": "markdown",
      "source": [
        "# Practicle question\n",
        "\n",
        "#1. Write a Python program to print \"Hello, World!_\n",
        "\n",
        "\n"
      ],
      "metadata": {
        "id": "0zN_8gHU67Iz"
      }
    },
    {
      "cell_type": "code",
      "source": [
        "print(\"Hello, World!\")\n"
      ],
      "metadata": {
        "colab": {
          "base_uri": "https://localhost:8080/"
        },
        "id": "FjpyDUWl7KA_",
        "outputId": "1e287610-d505-48b5-a3ca-2514f766f425"
      },
      "execution_count": 1,
      "outputs": [
        {
          "output_type": "stream",
          "name": "stdout",
          "text": [
            "Hello, World!\n"
          ]
        }
      ]
    },
    {
      "cell_type": "markdown",
      "source": [
        "#2. Write a Python program that displays your name and age?\n",
        "\n",
        "\n"
      ],
      "metadata": {
        "id": "98_YIipi7q5t"
      }
    },
    {
      "cell_type": "code",
      "source": [
        "name = \"Your Name\"\n",
        "age = 30\n",
        "print(\"Name:\", name)\n",
        "print(\"Age:\", age)\n"
      ],
      "metadata": {
        "colab": {
          "base_uri": "https://localhost:8080/"
        },
        "id": "4jbzPbr478s8",
        "outputId": "719afeca-9fc1-4d5a-f643-f3ea8512f5d8"
      },
      "execution_count": 2,
      "outputs": [
        {
          "output_type": "stream",
          "name": "stdout",
          "text": [
            "Name: Your Name\n",
            "Age: 30\n"
          ]
        }
      ]
    },
    {
      "cell_type": "markdown",
      "source": [
        "#3. Write code to print all the pre-defined keywords in Python using the keyword library?\n",
        "\n"
      ],
      "metadata": {
        "id": "ceLlXc0t8F0e"
      }
    },
    {
      "cell_type": "code",
      "source": [
        "import keyword\n",
        "\n",
        "# printing all keywords at once using \"kwlist()\"\n",
        "print(\"The list of keywords is : \")\n",
        "print(keyword.kwlist)\n"
      ],
      "metadata": {
        "colab": {
          "base_uri": "https://localhost:8080/"
        },
        "id": "-lEapU-q8yao",
        "outputId": "7f472f27-e4e0-484e-9b06-cd51ff000c29"
      },
      "execution_count": 3,
      "outputs": [
        {
          "output_type": "stream",
          "name": "stdout",
          "text": [
            "The list of keywords is : \n",
            "['False', 'None', 'True', 'and', 'as', 'assert', 'async', 'await', 'break', 'class', 'continue', 'def', 'del', 'elif', 'else', 'except', 'finally', 'for', 'from', 'global', 'if', 'import', 'in', 'is', 'lambda', 'nonlocal', 'not', 'or', 'pass', 'raise', 'return', 'try', 'while', 'with', 'yield']\n"
          ]
        }
      ]
    },
    {
      "cell_type": "markdown",
      "source": [
        "#4. Write a program that checks if a given word is a Python keyword?\n",
        "-\n"
      ],
      "metadata": {
        "id": "lhNjJuvu9KhQ"
      }
    },
    {
      "cell_type": "code",
      "source": [
        "import keyword\n",
        "\n",
        "def is_keyword(word):\n",
        "  \"\"\"Checks if a word is a Python keyword.\n",
        "\n",
        "  Args:\n",
        "    word: The word to check.\n",
        "\n",
        "  Returns:\n",
        "    True if the word is a keyword, False otherwise.\n",
        "  \"\"\"\n",
        "  return keyword.iskeyword(word)\n",
        "\n",
        "# Example usage\n",
        "word1 = \"for\"\n",
        "word2 = \"example\"\n",
        "\n",
        "print(f\"'{word1}' is a keyword: {is_keyword(word1)}\")\n",
        "print(f\"'{word2}' is a keyword: {is_keyword(word2)}\")\n",
        "\n",
        "# Print all keywords\n",
        "print(f\"All keywords: {keyword.kwlist}\")\n"
      ],
      "metadata": {
        "colab": {
          "base_uri": "https://localhost:8080/"
        },
        "id": "2aLQMR6K90OQ",
        "outputId": "c8f7a10a-fe53-4cef-d383-cb7e4ae5a86a"
      },
      "execution_count": 6,
      "outputs": [
        {
          "output_type": "stream",
          "name": "stdout",
          "text": [
            "'for' is a keyword: True\n",
            "'example' is a keyword: False\n",
            "All keywords: ['False', 'None', 'True', 'and', 'as', 'assert', 'async', 'await', 'break', 'class', 'continue', 'def', 'del', 'elif', 'else', 'except', 'finally', 'for', 'from', 'global', 'if', 'import', 'in', 'is', 'lambda', 'nonlocal', 'not', 'or', 'pass', 'raise', 'return', 'try', 'while', 'with', 'yield']\n"
          ]
        }
      ]
    },
    {
      "cell_type": "markdown",
      "source": [
        "#5. Create a list and tuple in Python, and demonstrate how attempting to change an element works differently for each"
      ],
      "metadata": {
        "id": "77dbASgR-0Km"
      }
    },
    {
      "cell_type": "markdown",
      "source": [],
      "metadata": {
        "id": "ST8DGv_o-FLG"
      }
    },
    {
      "cell_type": "code",
      "source": [
        "a = [1, 2, 3]\n",
        "b = ['apple', 'orange', 'cherry']\n",
        "\n",
        "res = list(zip(a, b))\n",
        "\n",
        "print(res)\n"
      ],
      "metadata": {
        "colab": {
          "base_uri": "https://localhost:8080/"
        },
        "id": "P7dpjEHb-xSZ",
        "outputId": "ba7f0ea4-c5e8-4e42-ed99-de4ca70491a7"
      },
      "execution_count": 5,
      "outputs": [
        {
          "output_type": "stream",
          "name": "stdout",
          "text": [
            "[(1, 'apple'), (2, 'orange'), (3, 'cherry')]\n"
          ]
        }
      ]
    },
    {
      "cell_type": "markdown",
      "source": [],
      "metadata": {
        "id": "FVUsW_1h_DOv"
      }
    },
    {
      "cell_type": "markdown",
      "source": [
        "#6. Write a function to demonstrate the behavior of mutable and immutable arguments?\n"
      ],
      "metadata": {
        "id": "o0tsyqVJ_WSp"
      }
    },
    {
      "cell_type": "markdown",
      "source": [],
      "metadata": {
        "id": "0gGqLH0bAJya"
      }
    },
    {
      "cell_type": "code",
      "source": [],
      "metadata": {
        "id": "39_wQBETAOyH"
      },
      "execution_count": null,
      "outputs": []
    },
    {
      "cell_type": "code",
      "source": [
        "my_list = [1, 2, 3]\n",
        "my_list.append(4)\n",
        "print(my_list)\n",
        "\n",
        "my_list.insert(1, 5)\n",
        "print(my_list)\n",
        "\n",
        "my_list.remove(2)\n",
        "print(my_list)\n",
        "\n",
        "popped_element = my_list.pop(0)\n",
        "print(my_list)\n",
        "print(popped_element)"
      ],
      "metadata": {
        "colab": {
          "base_uri": "https://localhost:8080/"
        },
        "id": "mjhfqYZBAPKj",
        "outputId": "0ed40bc4-59ff-46b0-93f5-d01de5786341"
      },
      "execution_count": 7,
      "outputs": [
        {
          "output_type": "stream",
          "name": "stdout",
          "text": [
            "[1, 2, 3, 4]\n",
            "[1, 5, 2, 3, 4]\n",
            "[1, 5, 3, 4]\n",
            "[5, 3, 4]\n",
            "1\n"
          ]
        }
      ]
    },
    {
      "cell_type": "code",
      "source": [],
      "metadata": {
        "id": "wQGpk9HPBg2R"
      },
      "execution_count": null,
      "outputs": []
    },
    {
      "cell_type": "markdown",
      "source": [],
      "metadata": {
        "id": "Mvm0paIzAfPj"
      }
    },
    {
      "cell_type": "markdown",
      "source": [],
      "metadata": {
        "id": "_kBqI3RhAeTJ"
      }
    },
    {
      "cell_type": "code",
      "source": [
        "my_dict = {\"name\": \"Ram\", \"age\": 25}\n",
        "new_dict = my_dict\n",
        "new_dict[\"age\"] = 37\n",
        "\n",
        "print(my_dict)\n",
        "print(new_dict)"
      ],
      "metadata": {
        "colab": {
          "base_uri": "https://localhost:8080/"
        },
        "id": "V-e-_qX4AcPR",
        "outputId": "225171c1-6525-4dcd-81d7-a00e8bc142fd"
      },
      "execution_count": 2,
      "outputs": [
        {
          "output_type": "stream",
          "name": "stdout",
          "text": [
            "{'name': 'Ram', 'age': 37}\n",
            "{'name': 'Ram', 'age': 37}\n"
          ]
        }
      ]
    },
    {
      "cell_type": "markdown",
      "source": [],
      "metadata": {
        "id": "fp04KPGfYyPx"
      }
    },
    {
      "cell_type": "markdown",
      "source": [
        "#7. Write a function to demonstrate the behavior of mutable and immutable arguments?\n"
      ],
      "metadata": {
        "id": "6kKNDsLMY5yZ"
      }
    },
    {
      "cell_type": "code",
      "source": [
        "def demonstrate_mutability(immutable_arg, mutable_arg):\n",
        "    # Trying to modify the immutable argument\n",
        "    print(\"Before modifying immutable_arg:\", immutable_arg)\n",
        "    try:\n",
        "        immutable_arg[0] = 'X'  # This will raise an error\n",
        "    except TypeError as e:\n",
        "        print(\"Error trying to modify immutable_arg:\", e)\n",
        "\n",
        "    # Modifying the mutable argument\n",
        "    print(\"Before modifying mutable_arg:\", mutable_arg)\n",
        "    mutable_arg.append(100)\n",
        "    print(\"After modifying mutable_arg:\", mutable_arg)\n",
        "\n",
        "    # Showing that the immutable argument remains unchanged\n",
        "    print(\"After function call, immutable_arg:\", immutable_arg)\n",
        "    print(\"After function call, mutable_arg:\", mutable_arg)\n",
        "\n",
        "# Immutable argument (a tuple)\n",
        "immutable = (1, 2, 3)\n",
        "\n",
        "# Mutable argument (a list)\n",
        "mutable = [10, 20, 30]\n",
        "\n",
        "# Call the function\n",
        "demonstrate_mutability(immutable, mutable)\n"
      ],
      "metadata": {
        "colab": {
          "base_uri": "https://localhost:8080/"
        },
        "id": "4h1QgEmMcPp7",
        "outputId": "4bfba21f-eb16-433c-bb90-40c17c8801ae"
      },
      "execution_count": 1,
      "outputs": [
        {
          "output_type": "stream",
          "name": "stdout",
          "text": [
            "Before modifying immutable_arg: (1, 2, 3)\n",
            "Error trying to modify immutable_arg: 'tuple' object does not support item assignment\n",
            "Before modifying mutable_arg: [10, 20, 30]\n",
            "After modifying mutable_arg: [10, 20, 30, 100]\n",
            "After function call, immutable_arg: (1, 2, 3)\n",
            "After function call, mutable_arg: [10, 20, 30, 100]\n"
          ]
        }
      ]
    },
    {
      "cell_type": "code",
      "source": [],
      "metadata": {
        "id": "kxhKP6I2cPQp"
      },
      "execution_count": null,
      "outputs": []
    },
    {
      "cell_type": "markdown",
      "source": [
        "#8. Write a program to demonstrate the use of logical operators?\n"
      ],
      "metadata": {
        "id": "O-rkEMlbcomq"
      }
    },
    {
      "cell_type": "code",
      "source": [
        "# Program to demonstrate the use of logical operators\n",
        "\n",
        "# Variables\n",
        "a = 10\n",
        "b = 20\n",
        "c = 5\n",
        "\n",
        "# AND operator: Returns True if both conditions are True\n",
        "print(\"a is greater than b and c is less than a: \", a > b and c < a)  # False\n",
        "\n",
        "# OR operator: Returns True if at least one of the conditions is True\n",
        "print(\"a is greater than b or c is less than a: \", a > b or c < a)  # True\n",
        "\n",
        "# NOT operat\n"
      ],
      "metadata": {
        "colab": {
          "base_uri": "https://localhost:8080/"
        },
        "id": "rXWfMBubc2Fo",
        "outputId": "66f677ce-0876-4607-890e-7648e17581e2"
      },
      "execution_count": 3,
      "outputs": [
        {
          "output_type": "stream",
          "name": "stdout",
          "text": [
            "a is greater than b and c is less than a:  False\n",
            "a is greater than b or c is less than a:  True\n"
          ]
        }
      ]
    },
    {
      "cell_type": "markdown",
      "source": [
        "#9. Write a Python program to convert user input from string to integer, float, and boolean types?\n",
        "\n"
      ],
      "metadata": {
        "id": "0JDnWHqnc5t0"
      }
    },
    {
      "cell_type": "code",
      "source": [
        "# Get user input as a string\n",
        "user_input = input(\"Enter a value: \")\n",
        "\n",
        "# Convert to integer\n",
        "try:\n",
        "    integer_value = int(user_input)\n",
        "    print(f\"Integer value: {integer_value}\")\n",
        "except ValueError:\n",
        "    print(\"The input is not a valid integer.\")\n",
        "\n",
        "# Convert to float\n",
        "try:\n",
        "    float_value = float(user_input)\n",
        "    print(f\"Float value: {float_value}\")\n",
        "except ValueError:\n",
        "    print(\"The input is not a valid float.\")\n",
        "\n",
        "# Convert to boolean\n",
        "# An empty string or 'False' should be considered False, and all other values are considered True\n",
        "boolean_value = user_input.\n"
      ],
      "metadata": {
        "colab": {
          "base_uri": "https://localhost:8080/",
          "height": 106
        },
        "id": "CZBZ-lipdCEp",
        "outputId": "ea4ca6b0-08ce-423d-a4e9-7fca5c05546e"
      },
      "execution_count": 5,
      "outputs": [
        {
          "output_type": "error",
          "ename": "SyntaxError",
          "evalue": "invalid syntax (<ipython-input-5-e4c5d47a332a>, line 20)",
          "traceback": [
            "\u001b[0;36m  File \u001b[0;32m\"<ipython-input-5-e4c5d47a332a>\"\u001b[0;36m, line \u001b[0;32m20\u001b[0m\n\u001b[0;31m    boolean_value = user_input.\u001b[0m\n\u001b[0m                               ^\u001b[0m\n\u001b[0;31mSyntaxError\u001b[0m\u001b[0;31m:\u001b[0m invalid syntax\n"
          ]
        }
      ]
    },
    {
      "cell_type": "markdown",
      "source": [
        "#10. Write code to demonstrate type casting with list elements?\n"
      ],
      "metadata": {
        "id": "iThGBqbPdb10"
      }
    },
    {
      "cell_type": "code",
      "source": [
        "# List of mixed data types\n",
        "mixed_list = [\"10\", 20, 30.5, True]\n",
        "\n",
        "# Type casting elements in the list\n",
        "casted_list = [\n",
        "    int(mixed_list[0]),  # Convert string to integer\n",
        "    float(mixed_list[1]),  # Convert integer to float\n",
        "    str(mixed_list[2]),  # Convert float to string\n",
        "    int(mixed_list[3])  # Convert boolean to integer\n",
        "]\n",
        "\n",
        "# Display the original and the casted list\n",
        "print(\"Original List:\", mixed_list)\n",
        "print(\"Casted List:\", casted_list)\n"
      ],
      "metadata": {
        "colab": {
          "base_uri": "https://localhost:8080/"
        },
        "id": "KfxHTFridpYV",
        "outputId": "c1b79bb2-19e5-48bd-92b4-dc4b29fec9d2"
      },
      "execution_count": 7,
      "outputs": [
        {
          "output_type": "stream",
          "name": "stdout",
          "text": [
            "Original List: ['10', 20, 30.5, True]\n",
            "Casted List: [10, 20.0, '30.5', 1]\n"
          ]
        }
      ]
    },
    {
      "cell_type": "markdown",
      "source": [
        "#11. Write a program that checks if a number is positive, negative, or zero?\n"
      ],
      "metadata": {
        "id": "qbFk-1okeHsN"
      }
    },
    {
      "cell_type": "code",
      "source": [
        "# Input number from user\n",
        "number = float(input(\"Enter a number: \"))\n",
        "\n",
        "# Check if the number is positive, negative, or zero\n",
        "if number > 0:\n",
        "    print(\"The number is positive.\")\n",
        "elif number < 0:\n",
        "    print(\"The number is negative.\")\n",
        "else:\n",
        "    print(\"The number is zero.\")\n"
      ],
      "metadata": {
        "colab": {
          "base_uri": "https://localhost:8080/"
        },
        "id": "1ssPMDpTeN1f",
        "outputId": "9ed9bb2c-8bab-4727-e1ee-1a42c4ce7564"
      },
      "execution_count": 8,
      "outputs": [
        {
          "output_type": "stream",
          "name": "stdout",
          "text": [
            "Enter a number: 1\n",
            "The number is positive.\n"
          ]
        }
      ]
    },
    {
      "cell_type": "markdown",
      "source": [
        "#12. Write a for loop to print numbers from 1 to 100\n"
      ],
      "metadata": {
        "id": "AwSMMNXYecZ6"
      }
    },
    {
      "cell_type": "code",
      "source": [
        "for i in range(1, 101):\n",
        "    print(i)\n"
      ],
      "metadata": {
        "colab": {
          "base_uri": "https://localhost:8080/"
        },
        "id": "FXT0d8mQewZH",
        "outputId": "e638b32e-774b-4a0a-992c-bbd556ffc4d7"
      },
      "execution_count": 9,
      "outputs": [
        {
          "output_type": "stream",
          "name": "stdout",
          "text": [
            "1\n",
            "2\n",
            "3\n",
            "4\n",
            "5\n",
            "6\n",
            "7\n",
            "8\n",
            "9\n",
            "10\n",
            "11\n",
            "12\n",
            "13\n",
            "14\n",
            "15\n",
            "16\n",
            "17\n",
            "18\n",
            "19\n",
            "20\n",
            "21\n",
            "22\n",
            "23\n",
            "24\n",
            "25\n",
            "26\n",
            "27\n",
            "28\n",
            "29\n",
            "30\n",
            "31\n",
            "32\n",
            "33\n",
            "34\n",
            "35\n",
            "36\n",
            "37\n",
            "38\n",
            "39\n",
            "40\n",
            "41\n",
            "42\n",
            "43\n",
            "44\n",
            "45\n",
            "46\n",
            "47\n",
            "48\n",
            "49\n",
            "50\n",
            "51\n",
            "52\n",
            "53\n",
            "54\n",
            "55\n",
            "56\n",
            "57\n",
            "58\n",
            "59\n",
            "60\n",
            "61\n",
            "62\n",
            "63\n",
            "64\n",
            "65\n",
            "66\n",
            "67\n",
            "68\n",
            "69\n",
            "70\n",
            "71\n",
            "72\n",
            "73\n",
            "74\n",
            "75\n",
            "76\n",
            "77\n",
            "78\n",
            "79\n",
            "80\n",
            "81\n",
            "82\n",
            "83\n",
            "84\n",
            "85\n",
            "86\n",
            "87\n",
            "88\n",
            "89\n",
            "90\n",
            "91\n",
            "92\n",
            "93\n",
            "94\n",
            "95\n",
            "96\n",
            "97\n",
            "98\n",
            "99\n",
            "100\n"
          ]
        }
      ]
    },
    {
      "cell_type": "markdown",
      "source": [
        "#13. Write a Python program to find the sum of all even numbers between 1 and 500\n"
      ],
      "metadata": {
        "id": "KHQ3w54Te1nM"
      }
    },
    {
      "cell_type": "code",
      "source": [],
      "metadata": {
        "id": "3gpFkwtpfAVO"
      },
      "execution_count": null,
      "outputs": []
    },
    {
      "cell_type": "markdown",
      "source": [],
      "metadata": {
        "id": "zEoDf6cMfiDR"
      }
    },
    {
      "cell_type": "code",
      "source": [],
      "metadata": {
        "id": "kj2fB1V0dCdp"
      },
      "execution_count": null,
      "outputs": []
    },
    {
      "cell_type": "code",
      "source": [
        "# Initialize the sum variable\n",
        "even_sum = 0\n",
        "\n",
        "# Loop through numbers from 1 to 500\n",
        "for number in range(2, 501, 2):\n",
        "    even_sum += number\n",
        "\n",
        "# Print the result\n",
        "print(f\"The sum of all even numbers between 1 and 500 is: {even_sum}\")\n"
      ],
      "metadata": {
        "colab": {
          "base_uri": "https://localhost:8080/"
        },
        "id": "JMTc62dtfckA",
        "outputId": "318d623a-a406-425b-db62-0ce3783cd1f6"
      },
      "execution_count": 10,
      "outputs": [
        {
          "output_type": "stream",
          "name": "stdout",
          "text": [
            "The sum of all even numbers between 1 and 500 is: 62750\n"
          ]
        }
      ]
    },
    {
      "cell_type": "markdown",
      "source": [
        "#13. Write a program to reverse a string using a while loop?\n"
      ],
      "metadata": {
        "id": "nf0_3Sb2flUu"
      }
    },
    {
      "cell_type": "code",
      "source": [
        "# Function to reverse a string using a while loop\n",
        "def reverse_string(input_string):\n",
        "    reversed_string = \"\"\n",
        "    index = len(input_string) - 1  # Start from the last character\n",
        "\n",
        "    while index >= 0:\n",
        "        reversed_string += input_string[index]\n",
        "        index -= 1\n",
        "\n",
        "    return reversed_string\n",
        "\n",
        "# Test the function\n",
        "input_string = \"Hello, World!\"\n",
        "result = reverse_string(input_string)\n",
        "print(f\"The reversed string is: {result}\")\n"
      ],
      "metadata": {
        "colab": {
          "base_uri": "https://localhost:8080/"
        },
        "id": "IN-vspxPfrHS",
        "outputId": "dfa1f56d-eff9-44d2-8099-edee1c7c687f"
      },
      "execution_count": 11,
      "outputs": [
        {
          "output_type": "stream",
          "name": "stdout",
          "text": [
            "The reversed string is: !dlroW ,olleH\n"
          ]
        }
      ]
    },
    {
      "cell_type": "code",
      "source": [],
      "metadata": {
        "id": "15Iqv2lCcoLY"
      },
      "execution_count": null,
      "outputs": []
    },
    {
      "cell_type": "markdown",
      "source": [],
      "metadata": {
        "id": "lBhK9PejZBsj"
      }
    },
    {
      "cell_type": "markdown",
      "source": [
        "#14. Write a Python program to calculate the factorial of a number provided by the user using a while loop.\n"
      ],
      "metadata": {
        "id": "uzoyAizff-vA"
      }
    },
    {
      "cell_type": "code",
      "source": [
        "# Function to calculate the factorial using a while loop\n",
        "def factorial(n):\n",
        "    result = 1\n",
        "    while n > 1:\n",
        "        result *= n\n",
        "        n -= 1\n",
        "    return result\n",
        "\n",
        "# Taking input from the user\n",
        "number = int(input(\"Enter a number to calculate its factorial: \"))\n",
        "\n",
        "# Checking if the number is negative\n",
        "if number < 0:\n"
      ],
      "metadata": {
        "id": "JqzYB09YgG47",
        "outputId": "23257542-2b73-4c57-809c-7d5cfe19db1a",
        "colab": {
          "base_uri": "https://localhost:8080/",
          "height": 106
        }
      },
      "execution_count": 12,
      "outputs": [
        {
          "output_type": "error",
          "ename": "SyntaxError",
          "evalue": "incomplete input (<ipython-input-12-359f9aa39985>, line 13)",
          "traceback": [
            "\u001b[0;36m  File \u001b[0;32m\"<ipython-input-12-359f9aa39985>\"\u001b[0;36m, line \u001b[0;32m13\u001b[0m\n\u001b[0;31m    if number < 0:\u001b[0m\n\u001b[0m                  ^\u001b[0m\n\u001b[0;31mSyntaxError\u001b[0m\u001b[0;31m:\u001b[0m incomplete input\n"
          ]
        }
      ]
    },
    {
      "cell_type": "code",
      "source": [
        "# Function to calculate the factorial using a while loop\n",
        "def factorial(n):\n",
        "    result = 1\n",
        "    while n > 1:\n",
        "        result *= n\n",
        "        n -= 1\n",
        "    return result\n",
        "\n",
        "# Taking input from the user\n",
        "number = int(input(\"Enter a number to calculate its factorial: \"))\n",
        "\n",
        "# Checking if the number is negative\n",
        "if number < 0:\n",
        "    print(\"Factorial is not defined for negative numbers.\")\n",
        "else:\n",
        "    # Calling the factorial function\n",
        "    result = factorial(number)\n",
        "    print(f\"The factorial of {number} is: {result}\")\n"
      ],
      "metadata": {
        "id": "WXKgnYJugXFD",
        "outputId": "be7d2543-b169-43db-90ac-89568681325b",
        "colab": {
          "base_uri": "https://localhost:8080/"
        }
      },
      "execution_count": 13,
      "outputs": [
        {
          "output_type": "stream",
          "name": "stdout",
          "text": [
            "Enter a number to calculate its factorial: 34\n",
            "The factorial of 34 is: 295232799039604140847618609643520000000\n"
          ]
        }
      ]
    }
  ]
}